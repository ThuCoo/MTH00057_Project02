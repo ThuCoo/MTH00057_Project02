{
 "cells": [
  {
   "cell_type": "markdown",
   "metadata": {},
   "source": [
    "## Đồ án 2: Image Processing <a class=\"anchor\" id=\"c2\"></a>"
   ]
  },
  {
   "cell_type": "markdown",
   "metadata": {},
   "source": [
    "### Nội dung đồ án <a class=\"anchor\" id=\"c21\"></a>"
   ]
  },
  {
   "cell_type": "markdown",
   "metadata": {},
   "source": [
    "Nhắc lại: Trong đồ án 1, bạn đã được giới thiệu rằng ảnh được lưu trữ dưới dạng ma trận các điểm ảnh. Mỗi điểm ảnh có thể là một giá trị (ảnh xám) hoặc một vector (ảnh màu).\n",
    "\n",
    "Trong đồ án này, bạn được yêu cầu thực hiện các chức năng xử lý ảnh cơ bản sau:\n",
    "    \n",
    "1. Thay đổi độ sáng cho ảnh\n",
    "\n",
    "![img](https://imgur.com/oJ8bTv7.jpg)\n",
    "\n",
    "2. Thay đổi độ tương phản\n",
    "\n",
    "![img](https://imgur.com/wl8MSu3.jpg)\n",
    "\n",
    "3. Lật ảnh (ngang + dọc)\n",
    "\n",
    "![img](https://imgur.com/MOOvIhN.jpg)\n",
    "\n",
    "4. Chuyển đổi ảnh RGB thành ảnh xám/sepia\n",
    "\n",
    "- Ảnh xám\n",
    "\n",
    "![img](https://imgur.com/XEfRXWE.jpg)\n",
    "\n",
    "- Ảnh sepia\n",
    "\n",
    "![img](https://imgur.com/YXUPjHY.jpg)\n",
    "\n",
    "Keywords: convert RGB to grayscale/sepia\n",
    "\n",
    "5. Làm mờ + sắc nét ảnh\n",
    "\n",
    "- Làm mờ\n",
    "\n",
    "![img](https://imgur.com/wZT4vUa.jpg)\n",
    "\n",
    "- Làm sắc nét\n",
    "\n",
    "![img](https://imgur.com/H2Fq4Ne.jpg)\n",
    "\n",
    "Tham khảo tại [đây](https://en.wikipedia.org/wiki/Kernel_(image_processing))\n",
    "\n",
    "6. Cắt 1/4 ảnh theo kích thước (cắt ở trung tâm)\n",
    "\n",
    "![img](https://imgur.com/fXebjfO.jpg)\n",
    "\n",
    "7. Cắt ảnh theo khung:\n",
    "- Khung hình tròn\n",
    "\n",
    "![img](https://imgur.com/DEpimhC.jpg)\n",
    "\n",
    "- Khung là 2 hình ellip chéo nhau\n",
    "\n",
    "![img](https://i.imgur.com/fPlYioC.png)\n",
    "\n",
    "8. Viết hàm process_image để gọi những chức năng xử lý ảnh như trên và hàm main xử lý với các yêu cầu sau:\n",
    "\n",
    "- Cho phép người dùng nhập vào tên tập tin ảnh mỗi khi hàm main được thực thi.\n",
    "- Cho phép người dùng lựa chọn chức năng xử lý ảnh (từ 1 đến 7) và hiển thị ảnh kết quả. Nếu có lựa chọn 0 sẽ cho phép lưu file đầu ra tương ứng với từng chức năng. Ví dụ:\n",
    "    - Đầu vào: `cat.png`\n",
    "    - Chức năng: Làm mờ\n",
    "    - Đầu ra: `cat_blur.png`"
   ]
  },
  {
   "cell_type": "markdown",
   "metadata": {},
   "source": [
    "Trong đồ án này, bạn <font style=\"color:red\">**CHỈ ĐƯỢC PHÉP**</font> sử dụng các thư viện sau: `PIL`, `numpy`, `matplotlib`.\n",
    "\n",
    "Cụ thể, nếu đề yêu cầu bạn viết ra chức năng đó, thì bạn phải thực sự viết ra chức năng đó chứ không phải gọi hàm có sẵn.\n",
    "\n",
    "- Các bạn sử dụng `PIL` (`open(), save()` từ `Image`) để đọc và ghi; `Matplotlib` (`imshow()` từ `pyplot`) để hiển thị ảnh.\n",
    "\n",
    "- Được phép sử dụng thư viện `NumPy` tùy ý.\n",
    "\n",
    "Lưu ý: Để được **điểm tối đa** cho từng chức năng, thời gian thực thi của mỗi chức năng phải nằm trong khoảng thời gian chấp nhận được. Ví dụ với chức năng làm mờ (phức tạp nhất) có thời gian thực thi trên ảnh với kích thước $512 \\times 512$ là dưới 15 giây."
   ]
  },
  {
   "cell_type": "markdown",
   "metadata": {},
   "source": [
    "### Quy định bài nộp <a class=\"anchor\" id=\"c22\"></a>"
   ]
  },
  {
   "cell_type": "markdown",
   "metadata": {},
   "source": [
    "- Thực hiện toàn bộ bài làm trên 1 tập tin Jupyter Notebook (.ipynb)\n",
    "\n",
    "- Bạn nộp tập tin `MSSV.zip` được nén từ thư mục MSSV chứa các tập tin sau:\n",
    "    1. Báo cáo toàn bộ bài làm: `MSSV.pdf`\n",
    "    2. Mã nguồn: `MSSV.ipynb`\n",
    "\n",
    "\n",
    "- Trong đó, nội dung tập tin báo cáo gồm có:\n",
    "    - Thông tin cá nhân: Họ và tên, MSSV\n",
    "    - Liệt kê các chức năng đã hoàn thành\n",
    "    - Ý tưởng thực hiện, mô tả các hàm chức năng\n",
    "    - Báo cáo cần có số trang và tài liệu tham khảo\n",
    "\n",
    "- Tập tin `MSSV.zip` không vượt quá 20MB. Ví dụ minh họa cây thư mục bài nộp sau khi giải nén tập tin `MSSV.zip` như sau:\n",
    "    ```\n",
    "    MSSV\n",
    "    ├── MSSV.pdf\n",
    "    └── MSSV.ipynb\n",
    "    ```"
   ]
  },
  {
   "cell_type": "markdown",
   "metadata": {},
   "source": [
    "### Quy định chấm bài <a class=\"anchor\" id=\"c23\"></a>"
   ]
  },
  {
   "cell_type": "markdown",
   "metadata": {},
   "source": [
    "Những trường hợp sau đây sẽ bị 0 điểm toàn bộ đồ án:\n",
    "- Nộp sai quy định\n",
    "- Không nộp báo cáo/mã nguồn\n",
    "- Thực thi mã nguồn báo lỗi\n",
    "- Copy sourcecode vào báo cáo\n",
    "- Không có phần tài liệu tham khảo và trích dẫn [] cần thiết\n",
    "\n",
    "<font style=\"color:red\">**LƯU Ý: \n",
    "- Các bài làm giống nhau (báo cáo hoặc mã nguồn) sẽ nhận 0 điểm toàn bộ phần thực hành\n",
    "- Những trường hợp lạm dụng các công cụ AI hỗ trợ mà KHÔNG hiểu bài sẽ bị xem xét như cheating và 0 điểm phần thực hành. Việc kiểm tra hiểu bài sẽ được thực hiện ngẫu nhiên qua việc lên bảng sửa bài hoặc vấn đáp\n",
    "</font>"
   ]
  }
 ],
 "metadata": {
  "kernelspec": {
   "display_name": "base",
   "language": "python",
   "name": "python3"
  },
  "language_info": {
   "codemirror_mode": {
    "name": "ipython",
    "version": 3
   },
   "file_extension": ".py",
   "mimetype": "text/x-python",
   "name": "python",
   "nbconvert_exporter": "python",
   "pygments_lexer": "ipython3",
   "version": "3.12.2"
  },
  "toc-autonumbering": false
 },
 "nbformat": 4,
 "nbformat_minor": 4
}
